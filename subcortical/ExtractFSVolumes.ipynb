{
 "cells": [
  {
   "cell_type": "markdown",
   "metadata": {},
   "source": [
    "## Pull Freesurfer Subcortical Volumes\n",
    "This notebook is designed to extract and visualize freesurfer volume data"
   ]
  },
  {
   "cell_type": "code",
   "execution_count": 1,
   "metadata": {},
   "outputs": [],
   "source": [
    "from pandas import DataFrame, Series, read_csv\n",
    "import datetime\n",
    "\n",
    "# Set study variables\n",
    "moochie_home = '/moochie/user_data/CamachoCat/Aggregate_anats'\n",
    "fs_subjs_dir = moochie_home + '/subjects_dir'\n",
    "output_dir = '/home/camachocm2/Analysis/aggregate_anats/cleaned_data'\n",
    "\n",
    "subject_info = read_csv(moochie_home + '/doc/subject_info_new.csv', index_col=None)\n",
    "subjects = subject_info['freesurferID'].tolist()\n",
    "\n",
    "# Determine what regions from the aseg.stats files to aggregate\n",
    "regions_of_interest = ['Left-Caudate','Left-Putamen','Left-Pallidum','Left-Accumbens-area',\n",
    "                       'Left-Thalamus-Proper','Right-Caudate','Right-Putamen','Right-Pallidum',\n",
    "                       'Right-Accumbens-area','Right-Thalamus-Proper']\n",
    "\n",
    "# Set up dataframe to store data\n",
    "data = DataFrame(columns=['SubjectID','eTIV'] + regions_of_interest)"
   ]
  },
  {
   "cell_type": "code",
   "execution_count": 3,
   "metadata": {},
   "outputs": [
    {
     "name": "stdout",
     "output_type": "stream",
     "text": [
      "139 has no aseg.stats file. Make sure recon-all autorecon3 finished!\n",
      "C1004 has no aseg.stats file. Make sure recon-all autorecon3 finished!\n",
      "C1049 has no aseg.stats file. Make sure recon-all autorecon3 finished!\n",
      "C1051 has no aseg.stats file. Make sure recon-all autorecon3 finished!\n",
      "C1053 has no aseg.stats file. Make sure recon-all autorecon3 finished!\n",
      "C1055 has no aseg.stats file. Make sure recon-all autorecon3 finished!\n",
      "D1002 has no aseg.stats file. Make sure recon-all autorecon3 finished!\n",
      "D1013 has no aseg.stats file. Make sure recon-all autorecon3 finished!\n",
      "D1017 has no aseg.stats file. Make sure recon-all autorecon3 finished!\n",
      "D1021 has no aseg.stats file. Make sure recon-all autorecon3 finished!\n",
      "D1027 has no aseg.stats file. Make sure recon-all autorecon3 finished!\n",
      "D1053 has no aseg.stats file. Make sure recon-all autorecon3 finished!\n",
      "D1058 has no aseg.stats file. Make sure recon-all autorecon3 finished!\n",
      "D1075 has no aseg.stats file. Make sure recon-all autorecon3 finished!\n",
      "E001 has no aseg.stats file. Make sure recon-all autorecon3 finished!\n",
      "E005 has no aseg.stats file. Make sure recon-all autorecon3 finished!\n",
      "E008 has no aseg.stats file. Make sure recon-all autorecon3 finished!\n",
      "E021 has no aseg.stats file. Make sure recon-all autorecon3 finished!\n",
      "E028 has no aseg.stats file. Make sure recon-all autorecon3 finished!\n",
      "E038 has no aseg.stats file. Make sure recon-all autorecon3 finished!\n",
      "E052 has no aseg.stats file. Make sure recon-all autorecon3 finished!\n",
      "E057 has no aseg.stats file. Make sure recon-all autorecon3 finished!\n",
      "E061 has no aseg.stats file. Make sure recon-all autorecon3 finished!\n",
      "E084 has no aseg.stats file. Make sure recon-all autorecon3 finished!\n",
      "E092 has no aseg.stats file. Make sure recon-all autorecon3 finished!\n"
     ]
    }
   ],
   "source": [
    "from os.path import isfile\n",
    "from pandas import read_table\n",
    "# Loop through all subjects\n",
    "for subidx in range(0,len(subjects)):\n",
    "    sub = subjects[subidx]\n",
    "    data.loc[subidx,'SubjectID']=sub\n",
    "    if isfile(fs_subjs_dir + '/' + sub + '/stats/aseg.stats'):\n",
    "        sub_data = read_table(fs_subjs_dir + '/' + sub + '/stats/aseg.stats', header=None, delim_whitespace=True, \n",
    "                              index_col = None, comment='#')\n",
    "\n",
    "        # Extract subcortical volumes\n",
    "        for label in regions_of_interest:\n",
    "            for a in range(0,len(sub_data[4])):\n",
    "                if label==sub_data[4][a]:\n",
    "                    data.loc[subidx,label] = sub_data.iloc[a,3]\n",
    "\n",
    "        # Extract estimated total intracranial volume or eTIV\n",
    "        all_lines = open(fs_subjs_dir + '/' + sub + '/stats/aseg.stats').read().splitlines()\n",
    "        for line in all_lines:\n",
    "            if \"Estimated Total Intracranial Volume\" in line:\n",
    "                eTIV_line = line\n",
    "                break\n",
    "        eTIV_line = eTIV_line.split(',')\n",
    "        data.loc[subidx,'eTIV'] = eTIV_line[3]\n",
    "    else:\n",
    "        print(sub + ' has no aseg.stats file. Make sure recon-all autorecon3 finished!')\n",
    "    \n",
    "# save the compiled data with today's date\n",
    "data_file = output_dir + '/aseg_data_{date:%Y%m%d-%H%M%S}.csv'.format(date=datetime.datetime.now())\n",
    "data.to_csv(data_file)"
   ]
  },
  {
   "cell_type": "code",
   "execution_count": 3,
   "metadata": {},
   "outputs": [],
   "source": []
  }
 ],
 "metadata": {
  "kernelspec": {
   "display_name": "Python 2",
   "language": "python",
   "name": "python2"
  },
  "language_info": {
   "codemirror_mode": {
    "name": "ipython",
    "version": 2
   },
   "file_extension": ".py",
   "mimetype": "text/x-python",
   "name": "python",
   "nbconvert_exporter": "python",
   "pygments_lexer": "ipython2",
   "version": "2.7.12"
  }
 },
 "nbformat": 4,
 "nbformat_minor": 2
}
