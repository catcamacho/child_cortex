{
 "cells": [
  {
   "cell_type": "markdown",
   "metadata": {},
   "source": [
    "## Pull Freesurfer Subcortical Volumes\n",
    "This notebook is designed to extract and visualize freesurfer volume data"
   ]
  },
  {
   "cell_type": "code",
   "execution_count": 3,
   "metadata": {},
   "outputs": [],
   "source": [
    "from pandas import DataFrame, Series, read_table\n",
    "import datetime\n",
    "\n",
    "# Set study variables\n",
    "fs_subjs_dir = '/moochie/Cat/Aggregate_anats/subjects_dir'\n",
    "output_dir = '/home/camachocm2/Analysis/aggregate_anats/results'\n",
    "subjects_list = output_dir + '/included_subs.txt'\n",
    "subjects = open(subjects_list).read().splitlines()\n",
    "\n",
    "# Determine what regions from the aseg.stats files to aggregate\n",
    "regions_of_interest = ['Left-Caudate','Left-Putamen','Left-Pallidum','Left-Accumbens-area',\n",
    "                       'Left-Thalamus-Proper','Right-Caudate','Right-Putamen','Right-Pallidum',\n",
    "                       'Right-Accumbens-area','Right-Thalamus-Proper','Right-Hippocampus',\n",
    "                       'Left-Hippocampus','Right-Amygdala','Left-Amygdala']\n",
    "\n",
    "# Set up dataframe to store data\n",
    "data = DataFrame(columns=['SubjectID','eTIV'] + regions_of_interest)"
   ]
  },
  {
   "cell_type": "code",
   "execution_count": 4,
   "metadata": {},
   "outputs": [],
   "source": [
    "# Loop through all subjects\n",
    "for subidx in range(0,len(subjects)):\n",
    "    sub = subjects[subidx]\n",
    "    data.loc[subidx,'SubjectID']=sub\n",
    "    sub_data = read_table(fs_subjs_dir + '/' + sub + '/stats/aseg.stats', header=None, delim_whitespace=True, \n",
    "                          index_col = None, comment='#')\n",
    "    \n",
    "    # Extract subcortical volumes\n",
    "    for label in regions_of_interest:\n",
    "        for a in range(0,len(sub_data[4])):\n",
    "            if label==sub_data[4][a]:\n",
    "                data.loc[subidx,label] = sub_data.iloc[a,3]\n",
    "    \n",
    "    # Extract estimated total intracranial volume or eTIV\n",
    "    all_lines = open(fs_subjs_dir + '/' + sub + '/stats/aseg.stats').read().splitlines()\n",
    "    for line in all_lines:\n",
    "        if \"Estimated Total Intracranial Volume\" in line:\n",
    "            eTIV_line = line\n",
    "            break\n",
    "    eTIV_line = eTIV_line.split(',')\n",
    "    data.loc[subidx,'eTIV'] = eTIV_line[3]\n",
    "    \n",
    "# save the compiled data with today's date\n",
    "data_file = output_dir + '/aseg_data_{date:%Y%m%d-%H%M%S}.csv'.format(date=datetime.datetime.now())\n",
    "data.to_csv(data_file)"
   ]
  },
  {
   "cell_type": "code",
   "execution_count": 3,
   "metadata": {},
   "outputs": [],
   "source": []
  }
 ],
 "metadata": {
  "kernelspec": {
   "display_name": "Python 2",
   "language": "python",
   "name": "python2"
  },
  "language_info": {
   "codemirror_mode": {
    "name": "ipython",
    "version": 2
   },
   "file_extension": ".py",
   "mimetype": "text/x-python",
   "name": "python",
   "nbconvert_exporter": "python",
   "pygments_lexer": "ipython2",
   "version": "2.7.12"
  }
 },
 "nbformat": 4,
 "nbformat_minor": 2
}
