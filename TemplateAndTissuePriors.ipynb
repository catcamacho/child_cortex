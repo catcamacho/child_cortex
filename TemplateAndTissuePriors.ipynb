{
 "cells": [
  {
   "cell_type": "code",
   "execution_count": null,
   "metadata": {
    "collapsed": true
   },
   "outputs": [],
   "source": [
    "# import all the modules\n",
    "from nipype.pipeline.engine import Workflow, Node, MapNode\n",
    "from nipype.interfaces.utility import IdentityInterface, Function\n",
    "from nipype.interfaces.io import SelectFiles, DataSink, FreeSurferSource\n",
    "from nipype.interfaces.fsl.preprocess import FAST\n",
    "from nipype.interfaces.fsl.utils import Reorient2Std\n",
    "from nipype.interfaces.freesurfer import FSCommand, MRIConvert\n",
    "from pandas import DataFrame, Series, read_csv\n",
    "\n",
    "# FSL setup- change default file output type\n",
    "from nipype.interfaces.fsl import FSLCommand\n",
    "FSLCommand.set_default_output_type('NIFTI_GZ')\n",
    "\n",
    "#freesurfer setup\n",
    "fs_dir = '/moochie/Cat/Aggregate_anats/subjects_dir'\n",
    "FSCommand.set_default_subjects_dir(fs_dir)\n",
    "\n",
    "# Study specific variables\n",
    "analysis_home = '/home/camachocm2/Analysis/aggregate_anats'\n",
    "\n",
    "workflow_dir = analysis_home + '/workflows'\n",
    "proc_dir = analysis_home + '/proc/subj_data'\n",
    "group_dir = analysis_home + '/proc/group_data'\n",
    "\n",
    "#subject_info = read_csv(analysis_home + '/misc/subjs.csv', index_col=0)\n",
    "#all_subjects = subject_info['fsID'].tolist()\n",
    "template_subjects_list = analysis_home + '/misc/template_subs.txt'\n",
    "template_subjects = open(template_subjects_list).read().splitlines()\n",
    "print(template_subjects)"
   ]
  },
  {
   "cell_type": "markdown",
   "metadata": {},
   "source": [
    "## 1. Template Brain Creation\n",
    "This section creates a template representative of the sample based on a predetermined list."
   ]
  },
  {
   "cell_type": "code",
   "execution_count": null,
   "metadata": {
    "collapsed": true
   },
   "outputs": [],
   "source": [
    "##### Set up nodes for file handling #####\n",
    "\n",
    "template_source = MapNode(FreeSurferSource(subjects_dir = fs_dir), \n",
    "                          name = 'template_source', \n",
    "                          iterfield = ['subject_id'])\n",
    "template_source.inputs.subject_id = template_subjects\n",
    "\n",
    "#set up datasink\n",
    "datasink = Node(DataSink(base_directory = proc_dir),\n",
    "                name = 'datasink')"
   ]
  },
  {
   "cell_type": "code",
   "execution_count": null,
   "metadata": {
    "collapsed": true
   },
   "outputs": [],
   "source": [
    "######### Template creation functions #########\n",
    "def make3DTemplate(subject_T1s, num_proc, output_prefix):\n",
    "    from nipype import config, logging\n",
    "    config.enable_debug_mode()\n",
    "    logging.update_logging(config)\n",
    "    \n",
    "    from os.path import abspath, split\n",
    "    from os import getcwd\n",
    "    from shutil import copyfile\n",
    "    from glob import glob\n",
    "    from subprocess import call\n",
    "\n",
    "    curr_dir = getcwd()\n",
    "\n",
    "    #copy T1s into current directory\n",
    "    for T in range(0,len(subject_T1s)):\n",
    "        [dirname,filename] = split(subject_T1s[T])\n",
    "        copyfile(subject_T1s[T],curr_dir + '/S' + str(T)+'_'+filename)\n",
    "\n",
    "    # -c flag is control for local computing (2= use localhost; required for -j flag)\n",
    "    # -j flag is for number of processors allowed\n",
    "    call(['antsMultivariateTemplateConstruction2.sh', '–d','3','–o', output_prefix,'–r','1','–c','2','–j', str(num_proc), '*.nii.gz'])\n",
    "    \n",
    "    sample_template = abspath(output_prefix + 'template0.nii.gz')\n",
    "    \n",
    "    return(sample_template)\n"
   ]
  },
  {
   "cell_type": "code",
   "execution_count": null,
   "metadata": {
    "collapsed": true
   },
   "outputs": [],
   "source": [
    "######### Template creation nodes #########\n",
    "\n",
    "#convert freesurfer brainmask files to .nii\n",
    "convertT1 = Node(MRIConvert(out_file='T1.nii.gz',\n",
    "                            out_type='niigz'), \n",
    "                 name='convertT1')\n",
    "\n",
    "#reorient files to standard space\n",
    "reorientT1 = MapNode(Reorient2Std(),\n",
    "                     name = 'reorientT1',\n",
    "                     iterfield = ['in_file'])\n",
    "\n",
    "#pass files into template function (normalized, pre-skull-stripping)\n",
    "makeTemplate = Node(Function(input_names=['subject_T1s','num_proc','output_prefix'],\n",
    "                             output_names=['sample_template'],\n",
    "                             function=make3DTemplate),\n",
    "                    name='makeTemplate')\n",
    "makeTemplate.inputs.num_proc=4 \n",
    "makeTemplate.inputs.output_prefix='Child_'"
   ]
  },
  {
   "cell_type": "code",
   "execution_count": null,
   "metadata": {
    "collapsed": true
   },
   "outputs": [],
   "source": [
    "######### Template creation workflow #########\n",
    "template_flow = Workflow(name = \"template_flow\")\n",
    "template_flow.connect([(template_source, convertT1, [('T1','in_file')]),\n",
    "                       (convertT1, reorientT1, [('out_file', 'in_file')]),\n",
    "                       (reorientT1, makeTemplate, [('out_file', 'subject_T1s')]),\n",
    "                       (reorientT1, datasink, [('out_file','proc_T1s')]),\n",
    "                       (makeTemplate, datasink, [('sample_template', 'sample_template')])\n",
    "                      ])\n",
    "\n",
    "template_flow.base_dir = workflow_dir\n",
    "template_flow.write_graph(graph2use = 'flat')\n",
    "template_flow.run(plugin='MultiProc',plugin_args={'memory_gb':10})"
   ]
  },
  {
   "cell_type": "markdown",
   "metadata": {},
   "source": [
    "## 2. Tissue Segmentation\n",
    "This next section creates the 4 tissue segmentations plus a brainmask for cortical thickness estimation tissue priors:\n",
    "1. CSF \n",
    "2. cortical gray matter \n",
    "3. white matter \n",
    "4. subcortical gray matter  \n",
    "5. whole brain"
   ]
  },
  {
   "cell_type": "code",
   "execution_count": null,
   "metadata": {},
   "outputs": [],
   "source": [
    "## data handling nodes\n",
    "\n",
    "# subject handling node\n",
    "infosource = Node(IdentityInterface(fields=['subject_id']), \n",
    "                  name='infosource')\n",
    "\n",
    "#pull freesurfer data\n",
    "tissue_source = Node(FreeSurferSource(subjects_dir = fs_dir),\n",
    "                     name = 'tissue_source')"
   ]
  },
  {
   "cell_type": "code",
   "execution_count": null,
   "metadata": {
    "collapsed": true
   },
   "outputs": [],
   "source": [
    "## Tissue labeling functions\n",
    "\n",
    "def relabel_fast(fast_tissue_list):\n",
    "    from nipype import config, logging\n",
    "    from os.path import split\n",
    "    from os import rename\n",
    "    config.enable_debug_mode()\n",
    "    logging.update_logging(config)\n",
    "    tissue_list = sorted(fast_tissue_list)\n",
    "    csf = tissue_list[0]\n",
    "    wm = tissue_list[2]\n",
    "    [wd, csf_file] = split(csf)\n",
    "    [wd, wm_file] = split(wm)\n",
    "    rename(csf, wd + 'csf.nii.gz')\n",
    "    rename(wm, wd + 'wm.nii.gz')\n",
    "    wm_csf = [wd + 'csf.nii.gz', wd + 'wm.nii.gz']\n",
    "    return(wm_csf)\n",
    "\n",
    "# Create subcortical and cortical gray matter masks <-- custom function. inputs: fs aseg + tissue class files\n",
    "def aseg_to_tissuemaps(aseg):\n",
    "    from nipype import config, logging\n",
    "    config.enable_debug_mode()\n",
    "    logging.update_logging(config)\n",
    "    from nibabel import load, save, Nifti1Image\n",
    "    from numpy import zeros_like\n",
    "    from os.path import abspath\n",
    "    aseg_nifti = load(aseg)\n",
    "    aseg_data = aseg_nifti.get_data()\n",
    "    cortical_labels = [3, 42]\n",
    "    subcortical_labels =[8, 10, 11, 12, 13, 17, 18, 26, 47, 49, 50, 51, 52, 53, 54, 58]\n",
    "\n",
    "    #creating array of zeroes that replaces 0's with 1's when matches values of subcortical_labels\n",
    "    cortical_data = zeros_like(aseg_data)\n",
    "    for x in cortical_labels:\n",
    "        cortical_data[aseg_data == x] = 1\n",
    "    cortical_nifti = Nifti1Image(cortical_data, aseg_nifti.affine)\n",
    "    \n",
    "    subcort_data = zeros_like(aseg_data) \n",
    "    for x in subcortical_labels:\n",
    "        subcort_data[aseg_data == x] = 1\n",
    "    subcort_nifti = Nifti1Image(subcort_data, aseg_nifti.affine)\n",
    "    \n",
    "    save(subcort_nifti, 'subcortical_gm.nii.gz')\n",
    "    save(cortical_nifti, 'cortical_gm.nii.gz')\n",
    "    subcort_file = abspath('subcortical_gm.nii.gz')\n",
    "    cortical_file = abspath('cortical_gm.nii.gz')\n",
    "    gm_list = [subcort_file, cortical_file]\n",
    "    return(gm_list)"
   ]
  },
  {
   "cell_type": "code",
   "execution_count": null,
   "metadata": {
    "collapsed": true
   },
   "outputs": [],
   "source": [
    "## tissue labeling nodes\n",
    "\n",
    "#convert freesurfer brainmask files to .nii\n",
    "convert_to_nii = Node(MRIConvert(out_file='brain.nii.gz',\n",
    "                                 out_type='niigz'), \n",
    "                      name='convert_to_nii', \n",
    "                      iterfield = ['in_file'])\n",
    "\n",
    "#reorient brainmask file to standard\n",
    "reorient_to_std = Node(Reorient2Std(),\n",
    "                       name = 'reorient_to_std',\n",
    "                       iterfield = ['in_file'])\n",
    "\n",
    "# Reorient aseg to standard\n",
    "reorient_aseg = Node(Reorient2Std(),\n",
    "                     name = 'reorient_aseg',\n",
    "                     iterfield = ['in_file'])\n",
    "\n",
    "#T1 gets run through segmentation (2) ---> results in segmentation into 3 tissue classes (wm, gm, csf)\n",
    "segment = Node(FAST(number_classes = 3, \n",
    "                    segments=True, \n",
    "                    no_bias=True), \n",
    "               name = 'segment', \n",
    "               iterfield = ['in_files'])\n",
    "\n",
    "# Convert freesurfer aseg to nii\n",
    "convert_aseg = Node(MRIConvert(out_file='aseg.nii.gz',\n",
    "                               out_type='niigz'), \n",
    "                    name='convert_aseg',\n",
    "                    iterfield = ['in_file'])\n",
    "\n",
    "# Split aseg into to types of gray matter\n",
    "aseg_to_gm = Node(Function(input_names=['aseg'],\n",
    "                           output_names=['gm_list'],\n",
    "                           function=aseg_to_tissuemaps),\n",
    "                  name='aseg_to_gm', \n",
    "                  iterfield=['aseg'])\n",
    "\n",
    "# Relabel the FAST segmentation \n",
    "relabel_fast_seg = Node(Function(input_names=['fast_tissue_list'],\n",
    "                                 output_names=['wm_csf'],\n",
    "                                 function=relabel_fast),\n",
    "                        name='relabel_fast_seg',\n",
    "                        iterfield=['fast_tissue_list'])\n",
    "\n",
    "# make brainmask by binarizing the brainmask\n",
    "binarize_brain = Node(Binarize(min=1, \n",
    "                               dilate=1, \n",
    "                               erode=1, \n",
    "                               out_file = 'brainmask.nii.gz'), \n",
    "                      name='binarize_brain', \n",
    "                      iterfield=['in_file'])"
   ]
  },
  {
   "cell_type": "code",
   "execution_count": null,
   "metadata": {
    "collapsed": true
   },
   "outputs": [],
   "source": [
    "######### Tissue segmentation workflow #########\n",
    "segment_flow = Workflow(name = 'segment_flow')\n",
    "segment_flow.connect([(infosource, tissue_source, [('subject_id','subject_id')]),\n",
    "                      (tissue_source, convert_to_nii, [('brainmask','in_file')]),\n",
    "                      (convert_to_nii, reorient_to_std, [('out_file', 'in_file')]),\n",
    "                      (reorient_to_std, segment, [('out_file', 'in_files')]),\n",
    "                      (segment, relabel_fast_seg, [('tissue_class_files', 'fast_tissue_list')]),\n",
    "                      (tissue_source, convert_aseg, [('aseg','in_file')]),\n",
    "                      (convert_aseg, reorient_aseg, [('out_file', 'in_file')]),\n",
    "                      (reorient_aseg, aseg_to_gm, [('out_file', 'aseg')]),\n",
    "                      (reorient_to_std, binarize_brain, [('out_file','in_file')]),\n",
    "                      \n",
    "                      (binarize_brain, datasink, [('binary_file','template_brainmask')]),\n",
    "                      (aseg_to_gm, datasink, [('gm_list', 'template_gm')]),\n",
    "                      (relabel_fast_seg, datasink, [('wm_csf', 'template_wm_csf')])\n",
    "                     ])\n",
    "\n",
    "segment_flow.base_dir = workflow_dir\n",
    "segment_flow.write_graph(graph2use = 'flat')\n",
    "segment_flow.run('MultiProc', plugin_args={'n_procs': 4, 'memory_gb':10})"
   ]
  },
  {
   "cell_type": "markdown",
   "metadata": {},
   "source": [
    "## 3. Tissue Priors\n",
    "This section creates the tissue priors (after manual editing the ouputs from the previous step)"
   ]
  },
  {
   "cell_type": "code",
   "execution_count": null,
   "metadata": {},
   "outputs": [],
   "source": [
    "### Data handling nodes\n",
    "file_template = {'template': proc_dir + '/template/lcbd_template0.nii.gz', \n",
    "                 'brainmask': proc_dir + '/template_brainmask/{subject_id}/*****.nii.gz',\n",
    "                 'sc_gm': proc_dir + '/template_gm/{subject_id}/*****.nii.gz',\n",
    "                 'c_gm': proc_dir + '/template_gm/{subject_id}/*****.nii.gz',\n",
    "                 'csf': proc_dir + '/template_wm_csf/{subject_id}/*****.nii.gz',\n",
    "                 'wm': proc_dir + '/template_wm_csf/{subject_id}/*****.nii.gz'}\n",
    "template_files = Node(SelectFiles(file_template), name='template_files')"
   ]
  },
  {
   "cell_type": "code",
   "execution_count": null,
   "metadata": {},
   "outputs": [],
   "source": [
    "### Tissue priors nodes\n",
    "reg_to_template = Node()"
   ]
  },
  {
   "cell_type": "code",
   "execution_count": null,
   "metadata": {},
   "outputs": [],
   "source": [
    "tissuepriors_flow = Workflow(name = 'tissuepriors_flow')\n",
    "tissuepriors_flow.connect([(infosource, tissue_source, [('subject_id','subject_id')]),\n",
    "                           (tissue_source, convert_to_nii, [('T1','in_file')]),\n",
    "                           (convert_to_nii, reorient_to_std, [('out_file','in_file')]),\n",
    "                           (reorient_to_std, reg_to_template, [('')])\n",
    "                          ])\n",
    "\n",
    "tissuepriors_flow.base_dir = workflow_dir\n",
    "tissuepriors_flow.write_graph(graph2use = 'flat')\n",
    "tissuepriors_flow.run('MultiProc', plugin_args={'n_procs': 4, 'memory_gb':10})"
   ]
  }
 ],
 "metadata": {
  "kernelspec": {
   "display_name": "Python 2",
   "language": "python",
   "name": "python2"
  },
  "language_info": {
   "codemirror_mode": {
    "name": "ipython",
    "version": 2
   },
   "file_extension": ".py",
   "mimetype": "text/x-python",
   "name": "python",
   "nbconvert_exporter": "python",
   "pygments_lexer": "ipython2",
   "version": "2.7.12"
  }
 },
 "nbformat": 4,
 "nbformat_minor": 2
}
