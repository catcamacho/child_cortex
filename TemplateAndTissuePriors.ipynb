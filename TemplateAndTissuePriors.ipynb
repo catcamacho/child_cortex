{
 "cells": [
  {
   "cell_type": "code",
   "execution_count": null,
   "metadata": {
    "collapsed": true
   },
   "outputs": [],
   "source": [
    "# import all the modules\n",
    "from nipype.pipeline.engine import Workflow, Node, MapNode\n",
    "from nipype.interfaces.utility import IdentityInterface, Function\n",
    "from nipype.interfaces.io import SelectFiles, DataSink, FreeSurferSource\n",
    "from nipype.interfaces.fsl.preprocess import FAST\n",
    "from nipype.interfaces.fsl.utils import Reorient2Std\n",
    "from nipype.interfaces.freesurfer import FSCommand, MRIConvert\n",
    "from pandas import DataFrame, Series, read_csv\n",
    "\n",
    "# FSL setup- change default file output type\n",
    "from nipype.interfaces.fsl import FSLCommand\n",
    "FSLCommand.set_default_output_type('NIFTIGZ')\n",
    "\n",
    "#freesurfer setup\n",
    "fs_dir = '/home/moochie/Cat/Aggregate_anats/subjects_dir'\n",
    "FSCommand.set_default_subjects_dir(fs_dir)\n",
    "\n",
    "# Study specific variables\n",
    "analysis_home = '/home/camachocm2/Analysis/Aggregate_anats'\n",
    "\n",
    "workflow_dir = analysis_home + '/workflows'\n",
    "proc_dir = analysis_home + '/proc/subj_data'\n",
    "group_dir = analysis_home + '/proc/group_data'\n",
    "\n",
    "#subject_info = read_csv(analysis_home + '/misc/subjs.csv', index_col=0)\n",
    "#template_subjects = subject_info[subject_info['fsID'] where subject_info['templateID']==1].tolist()\n",
    "#all_subjects = subject_info['fsID'].tolist()\n",
    "template_subjects = []"
   ]
  },
  {
   "cell_type": "code",
   "execution_count": null,
   "metadata": {
    "collapsed": true
   },
   "outputs": [],
   "source": [
    "##### Set up nodes for file handling #####\n",
    "\n",
    "### First, template creation ###\n",
    "template_source = MapNode(FreeSurferSource(subjects_dir = fs_subjdir), \n",
    "                          name = 'template_source', \n",
    "                          iterfield = ['subject_id'])\n",
    "template_source.inputs.subject_id = template_subjects\n",
    "\n",
    "#set up datasink\n",
    "datasink = Node(DataSink(base_directory = template_proc),\n",
    "                name = 'datasink')"
   ]
  },
  {
   "cell_type": "code",
   "execution_count": null,
   "metadata": {
    "collapsed": true
   },
   "outputs": [],
   "source": [
    "######### Template creation functions #########\n",
    "def make3DTemplate(subject_T1s, num_proc, output_prefix):\n",
    "    from nipype import config, logging\n",
    "    config.enable_debug_mode()\n",
    "    logging.update_logging(config)\n",
    "    \n",
    "    from os.path import abspath, split\n",
    "    from os import getcwd\n",
    "    from shutil import copyfile\n",
    "    from glob import glob\n",
    "    from subprocess import call\n",
    "\n",
    "    curr_dir = getcwd()\n",
    "\n",
    "    #copy T1s into current directory\n",
    "    for T in range(0,len(subject_T1s)):\n",
    "        [dirname,filename] = split(subject_T1s[T])\n",
    "        copyfile(subject_T1s[T],curr_dir + '/S' + str(T)+'_'+filename)\n",
    "\n",
    "    # -c flag is control for local computing (2= use localhost; required for -j flag)\n",
    "    # -j flag is for number of processors allowed\n",
    "    call(['antsMultivariateTemplateConstruction2.sh', '–d','3','–o', output_prefix,'–r','1','–c','2','–j', str(num_proc), '*.nii.gz'])\n",
    "    \n",
    "    sample_template = abspath(output_prefix + 'template0.nii.gz')\n",
    "    \n",
    "    return(sample_template)\n"
   ]
  },
  {
   "cell_type": "code",
   "execution_count": null,
   "metadata": {
    "collapsed": true
   },
   "outputs": [],
   "source": [
    "######### Template creation nodes #########\n",
    "\n",
    "#convert freesurfer brainmask files to .nii\n",
    "convertT1 = MapNode(MRIConvert(out_file='T1.nii.gz',\n",
    "                               out_type='niigz'), \n",
    "                    name='convertT1', \n",
    "                    iterfield = ['in_file'])\n",
    "\n",
    "#reorient files to standard space\n",
    "reorientT1 = MapNode(Reorient2Std(),\n",
    "                     name = 'reorientT1',\n",
    "                     iterfield = ['in_file'])\n",
    "\n",
    "#pass files into template function (normalized, pre-skull-stripping)\n",
    "makeTemplate = Node(Function(input_names=['subject_T1s','num_proc','output_prefix'],\n",
    "                             output_names=['sample_template'],\n",
    "                             function=make3DTemplate),\n",
    "                    name='makeTemplate')\n",
    "makeTemplate.inputs.num_proc=4 \n",
    "makeTemplate.inputs.output_prefix='Child_'"
   ]
  },
  {
   "cell_type": "code",
   "execution_count": null,
   "metadata": {
    "collapsed": true
   },
   "outputs": [],
   "source": [
    "######### Template creation workflow #########\n",
    "template_flow = Workflow(name = \"template_flow\")\n",
    "template_flow.connect([(fs_source, convertT1, [('T1','in_file')]),\n",
    "                       (convertT1, reorientT1, [('out_file', 'in_file')]),\n",
    "                       (reorientT1, makeTemplate, [('out_file', 'subject_T1s')]),\n",
    "                       (reorientT1, datasink, [('out_file','proc_T1s')]),\n",
    "                       (makeTemplate, datasink, [('sample_template', 'sample_template')])\n",
    "                      ])\n",
    "\n",
    "template_flow.base_dir = workflow_dir\n",
    "template_flow.write_graph(graph2use = 'flat')\n",
    "template_flow.run(plugin='Multiproc',plugin_args={'memory_gb':20})"
   ]
  },
  {
   "cell_type": "code",
   "execution_count": null,
   "metadata": {
    "collapsed": true
   },
   "outputs": [],
   "source": [
    "############ Tissue map functions ###############\n",
    "def split_gm_from_aseg(aseg):\n",
    "    from nipype import logging, config\n",
    "    config.enable_debug_mode()\n",
    "    logging.update_logging(config)\n",
    "    from nibabel import load, save, Nifti1Image\n",
    "    \n",
    "    \n",
    "    return(masks)"
   ]
  },
  {
   "cell_type": "code",
   "execution_count": null,
   "metadata": {
    "collapsed": true
   },
   "outputs": [],
   "source": [
    "############ Tissue map nodes ###############\n",
    "aseg_to_nii = Node(MRIConvert(out_file='aseg.nii.gz',\n",
    "                              out_type='niigz'), \n",
    "                   name='aseg_to_nii')\n",
    "\n",
    "reorient_aseg = Node(Reorient2Std(), \n",
    "                     name='reorient_aseg')\n",
    "\n",
    "\n",
    "segment_brainmask = Node(FAST(), \n",
    "                         name='segment_brainmask')"
   ]
  },
  {
   "cell_type": "code",
   "execution_count": null,
   "metadata": {
    "collapsed": true
   },
   "outputs": [],
   "source": []
  }
 ],
 "metadata": {
  "kernelspec": {
   "display_name": "Python 2",
   "language": "python",
   "name": "python2"
  },
  "language_info": {
   "codemirror_mode": {
    "name": "ipython",
    "version": 2
   },
   "file_extension": ".py",
   "mimetype": "text/x-python",
   "name": "python",
   "nbconvert_exporter": "python",
   "pygments_lexer": "ipython2",
   "version": "2.7.12"
  }
 },
 "nbformat": 4,
 "nbformat_minor": 2
}
