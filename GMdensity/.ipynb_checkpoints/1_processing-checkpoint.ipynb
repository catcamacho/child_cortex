{
 "cells": [
  {
   "cell_type": "markdown",
   "metadata": {},
   "source": [
    "## Processing T1w images to estimate Gray Matter Density\n"
   ]
  },
  {
   "cell_type": "code",
   "execution_count": null,
   "metadata": {},
   "outputs": [],
   "source": [
    "from nipype.pipeline.engine import Workflow, Node, MapNode\n",
    "from nipype.interfaces.utility import IdentityInterface, Function\n",
    "from nipype.interfaces.io import SelectFiles, DataSink, DataGrabber\n",
    "from nipype.algorithms.misc import Gunzip\n",
    "from nipype.interfaces.spm.preprocess import VBMSegment, Segment\n",
    "from pandas import DataFrame, Series, read_csv\n",
    "\n",
    "# Study specific variables\n",
    "study_home = '/moochie/Cat/Aggregate_anats/GMD_ML'\n",
    "\n",
    "sub_data_file = study_home + '/doc/subjectinfo.csv'\n",
    "subject_info = read_csv(sub_data_file)\n",
    "#subjects_list = subject_info['subjID'].tolist()\n",
    "subjects_list = ['1001']\n",
    "\n",
    "raw_data = study_home + '/raw'\n",
    "output_dir = study_home + '/proc'\n",
    "workflow_dir = study_home + '/workflows'\n",
    "\n",
    "sample_template = study_home + '/templates/lcbd_template.nii'"
   ]
  },
  {
   "cell_type": "code",
   "execution_count": null,
   "metadata": {},
   "outputs": [],
   "source": [
    "# Data handling nodes\n",
    "infosource = Node(IdentityInterface(fields=['subjid']), \n",
    "                  name='infosource')\n",
    "infosource.iterables = [('subjid', subjects_list)]\n",
    "\n",
    "substitutions = [('_subjid_', '')]\n",
    "datasink = Node(DataSink(substitutions=substitutions, \n",
    "                         base_directory=output_dir,\n",
    "                         container=output_dir), \n",
    "                name='datasink')"
   ]
  },
  {
   "cell_type": "markdown",
   "metadata": {},
   "source": [
    "### Bias-correct and segment subject images"
   ]
  },
  {
   "cell_type": "code",
   "execution_count": null,
   "metadata": {},
   "outputs": [],
   "source": [
    "# select the appropriate file to segment\n",
    "segmenttemplate = {'anat': raw_data + '/{subjid}/mprage.nii.gz'}\n",
    "segmentfiles = Node(SelectFiles(segmenttemplate), name='segmentfiles')\n",
    "\n",
    "# unzip the compressed nifti\n",
    "gunzip = Node(Gunzip(), name='gunzip')\n",
    "\n",
    "# Segment each subject\n",
    "segT1 = Node(Segment(gm_output_type=[True,True,True], \n",
    "                     wm_output_type=[True,True,True], \n",
    "                     bias_fwhm=30, \n",
    "                     bias_regularization=0.0001, \n",
    "                     affine_regularization='mni', \n",
    "                     save_bias_corrected=True), name='segT1')\n",
    "\n",
    "# Segment each subject\n",
    "nativesegT1 = Node(VBMSegment(dartel_template=sample_template, \n",
    "                              deformation_field=(False,False)), name='segT1')"
   ]
  },
  {
   "cell_type": "code",
   "execution_count": null,
   "metadata": {},
   "outputs": [],
   "source": [
    "segproc = Workflow(name='segproc')\n",
    "segproc.connect([(infosource, segmentfiles,[('subjid','subjid')]), \n",
    "                 (segmentfiles, gunzip, [('anat','in_file')]), \n",
    "                 (gunzip, nativesegT1, [('out_file','in_files')]),\n",
    "                 (nativesegT1, datasink, [('modulated_class_images','lcbd_mod_class_images')])\n",
    "                ])\n",
    "segproc.base_dir = workflow_dir\n",
    "segproc.write_graph(graph2use='flat')\n",
    "segproc.run('MultiProc', plugin_args={'n_procs': 4,'memory_gb':10})"
   ]
  },
  {
   "cell_type": "code",
   "execution_count": null,
   "metadata": {},
   "outputs": [],
   "source": [
    "segproc = Workflow(name='segproc')\n",
    "segproc.connect([(infosource, segmentfiles,[('subjid','subjid')]), \n",
    "                 (segmentfiles, gunzip, [('anat','in_file')]), \n",
    "                 (gunzip, segT1, [('out_file','data')]),\n",
    "                 (segT1, datasink, [('bias_corrected_image','bias_corrected_image'), \n",
    "                                    ('native_gm_image','native_gm_image'),\n",
    "                                    ('native_wm_image','native_wm_image'), \n",
    "                                    ('modulated_gm_image','modulated_gm_image'),\n",
    "                                    ('modulated_wm_image','modulated_wm_image')])\n",
    "                ])\n",
    "segproc.base_dir = workflow_dir\n",
    "segproc.write_graph(graph2use='flat')\n",
    "segproc.run('MultiProc', plugin_args={'n_procs': 4,'memory_gb':10})"
   ]
  },
  {
   "cell_type": "code",
   "execution_count": null,
   "metadata": {},
   "outputs": [],
   "source": []
  }
 ],
 "metadata": {
  "kernelspec": {
   "display_name": "Python 3",
   "language": "python",
   "name": "python3"
  },
  "language_info": {
   "codemirror_mode": {
    "name": "ipython",
    "version": 3
   },
   "file_extension": ".py",
   "mimetype": "text/x-python",
   "name": "python",
   "nbconvert_exporter": "python",
   "pygments_lexer": "ipython3",
   "version": "3.5.2"
  }
 },
 "nbformat": 4,
 "nbformat_minor": 2
}
